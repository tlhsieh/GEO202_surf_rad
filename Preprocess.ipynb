{
 "cells": [
  {
   "cell_type": "code",
   "execution_count": 1,
   "metadata": {},
   "outputs": [],
   "source": [
    "import numpy as np\n",
    "import xarray as xr"
   ]
  },
  {
   "cell_type": "code",
   "execution_count": 2,
   "metadata": {},
   "outputs": [],
   "source": [
    "import datetime"
   ]
  },
  {
   "cell_type": "code",
   "execution_count": 3,
   "metadata": {},
   "outputs": [],
   "source": [
    "%matplotlib inline\n",
    "import matplotlib.pyplot as plt\n",
    "plt.rc('font',**{'size':18})"
   ]
  },
  {
   "cell_type": "code",
   "execution_count": null,
   "metadata": {},
   "outputs": [],
   "source": [
    "#c NOTE: downloading ~1 GB of data. May take a while..\n",
    "!wget -r ftp://aftp.cmdl.noaa.gov/data/radiation/surfrad/Penn_State_PA/20[17-19]"
   ]
  },
  {
   "cell_type": "markdown",
   "metadata": {},
   "source": []
  },
  {
   "cell_type": "code",
   "execution_count": 4,
   "metadata": {},
   "outputs": [],
   "source": [
    "def daysinayear(year):\n",
    "    if year%400 == 0:\n",
    "        return 366\n",
    "    elif year%100 == 0:\n",
    "        return 365\n",
    "    elif year%4 == 0:\n",
    "        return 366\n",
    "    return 365"
   ]
  },
  {
   "cell_type": "code",
   "execution_count": 5,
   "metadata": {},
   "outputs": [],
   "source": [
    "#v list of fields, copied from the Fortran code in README\n",
    "fields = ['year', 'jday', 'month', 'day', 'hour', 'min', 'dt', 'zen', 'dw_solar', 'qc_dwsolar', 'uw_solar', 'qc_uwsolar', 'direct_n', 'qc_direct_n', 'diffuse', 'qc_diffuse', 'dw_ir', 'qc_dwir', 'dw_casetemp', 'qc_dwcasetemp', 'dw_dometemp', 'qc_dwdometemp', 'uw_ir', 'qc_uwir', 'uw_casetemp', 'qc_uwcasetemp', 'uw_dometemp', 'qc_uwdometemp', 'uvb', 'qc_uvb', 'par', 'qc_par', 'netsolar', 'qc_netsolar', 'netir', 'qc_netir', 'totalnet', 'qc_totalnet', 'temp', 'qc_temp', 'rh', 'qc_rh', 'windspd', 'qc_windspd', 'winddir', 'qc_winddir', 'pressure', 'qc_pressure', 'count']\n",
    "nfields = len(fields) # number of fields in each .dat plus one"
   ]
  },
  {
   "cell_type": "code",
   "execution_count": 6,
   "metadata": {
    "code_folding": [
     3
    ]
   },
   "outputs": [
    {
     "name": "stderr",
     "output_type": "stream",
     "text": [
      "/home/aos/hsiehtl/anaconda3/lib/python3.5/site-packages/ipykernel/__main__.py:30: RuntimeWarning: invalid value encountered in true_divide\n"
     ]
    }
   ],
   "source": [
    "# path = '/home/aos/hsiehtl/GEO202_surf_rad/surfrad_PSU/' # path to data files\n",
    "path = 'aftp.cmdl.noaa.gov/data/radiation/surfrad/Penn_State_PA/'\n",
    "\n",
    "data = np.zeros((1, nfields)) # initial shape is specified to make np.append() work\n",
    "for year in range(2017, 2020):\n",
    "    if year == 2019:\n",
    "        ndays = 31\n",
    "    else:\n",
    "        ndays = daysinayear(year) # len(os.listdir(path+str(year))) # number of days in that year\n",
    "    \n",
    "    for day in range(1, ndays+1):\n",
    "        singleday = np.zeros((24, nfields)) # to hold hourly data for one day\n",
    "        \n",
    "        filepath = path+str(year)+'/psu'+str(year)[-2:]+str(day).zfill(3)+'.dat'\n",
    "        # print(filepath) # previewing what the file path looks like\n",
    "        \n",
    "        try: \n",
    "            file = open(filepath, 'r') # each .dat is a day of data\n",
    "        \n",
    "            #v skip header lines\n",
    "            file.readline()\n",
    "            file.readline()\n",
    "\n",
    "            for line in file:\n",
    "                l = np.array(line.split())\n",
    "                hr = int(l[4])\n",
    "                singleday[hr,:-1] = singleday[hr,:-1] + np.array([float(n) for n in l])\n",
    "                singleday[hr,-1]  = singleday[hr,-1]  + 1 # counting number of samples in each hour; may not be 60\n",
    "                \n",
    "            singleday[:,:-1] = singleday[:,:-1]/np.transpose(np.broadcast_to(singleday[:,-1], (nfields-1, 24))) # computing hourly mean\n",
    "            \n",
    "            file.close()\n",
    "            \n",
    "        except FileNotFoundError: # to append zeros for days with missing data\n",
    "            pass\n",
    "        \n",
    "        data = np.append(data, singleday, axis=0)\n",
    "    \n",
    "data = data[1:,:] # removing the first line of zeros"
   ]
  },
  {
   "cell_type": "code",
   "execution_count": 7,
   "metadata": {
    "code_folding": []
   },
   "outputs": [],
   "source": [
    "#c cleaning up quality control flags\n",
    "for i in range(nfields):    \n",
    "    if fields[i][:2] == 'qc':\n",
    "        data[:,i] = data[:,i] + (data[:,-1] == 0) # flaging the entry if count == 0\n",
    "        data[:,i] = (data[:,i] > 0) # making it boolean data"
   ]
  },
  {
   "cell_type": "code",
   "execution_count": 8,
   "metadata": {},
   "outputs": [],
   "source": [
    "ds = xr.Dataset()\n",
    "h = range(len(data)) # a simple time axis: hours from the first data point\n",
    "\n",
    "for i in range(nfields):\n",
    "    if i < 6 or fields[i][:2] == 'qc' or i == nfields-1: # cleaning up variable type\n",
    "        ds.__setitem__(fields[i], xr.DataArray(data[:,i].astype(int), coords=[h], dims=['time']))\n",
    "    else:\n",
    "        ds.__setitem__(fields[i], xr.DataArray(data[:,i], coords=[h], dims=['time']))"
   ]
  },
  {
   "cell_type": "code",
   "execution_count": 9,
   "metadata": {},
   "outputs": [],
   "source": [
    "ds.to_netcdf('surfrad_hourly.nc')"
   ]
  },
  {
   "cell_type": "markdown",
   "metadata": {},
   "source": [
    "#### Creating ds2: using datetime list as the time axis"
   ]
  },
  {
   "cell_type": "code",
   "execution_count": 10,
   "metadata": {},
   "outputs": [],
   "source": [
    "ds = xr.open_dataset('surfrad_hourly.nc')"
   ]
  },
  {
   "cell_type": "code",
   "execution_count": 11,
   "metadata": {},
   "outputs": [],
   "source": [
    "#c replace time axis of \"hours from\" with datetime list\n",
    "ds2 = xr.Dataset()\n",
    "\n",
    "first = datetime.datetime(ds.year[0].values, ds.month[0].values, ds.day[0].values, ds.hour[0].values)\n",
    "time = [first + datetime.timedelta(hours=x) for x in range(len(ds.year.values))]\n",
    "\n",
    "for field in fields:\n",
    "    ds2.__setitem__(field, xr.DataArray(ds[field], coords=[time], dims=['time']))"
   ]
  },
  {
   "cell_type": "code",
   "execution_count": 12,
   "metadata": {},
   "outputs": [],
   "source": [
    "ds2.to_netcdf('surfrad_hourly_new.nc')"
   ]
  },
  {
   "cell_type": "markdown",
   "metadata": {},
   "source": [
    "#### Creating ds3: removing qc flags; replacing bad data with nan"
   ]
  },
  {
   "cell_type": "code",
   "execution_count": 13,
   "metadata": {},
   "outputs": [],
   "source": [
    "ds2 = xr.open_dataset('surfrad_hourly_new.nc')"
   ]
  },
  {
   "cell_type": "code",
   "execution_count": 14,
   "metadata": {},
   "outputs": [],
   "source": [
    "ds3 = xr.Dataset()\n",
    "\n",
    "for i in range(nfields):\n",
    "    if fields[i][:2] == 'qc':\n",
    "        ds2[fields[i-1]][ds2[fields[i]] == 1] = np.nan # make bad quality data nan\n",
    "        ds3.__setitem__(fields[i-1], ds2[fields[i-1]]) # NOTE: only data with qc flags are included, not including the time variables\n",
    "        \n",
    "for field in ['zen']: # fields that don't have qc flags but still worth including\n",
    "    ds3.__setitem__(field, ds2[field])"
   ]
  },
  {
   "cell_type": "code",
   "execution_count": 15,
   "metadata": {},
   "outputs": [],
   "source": [
    "ds3.to_netcdf('surfrad_hourly_clean.nc')"
   ]
  },
  {
   "cell_type": "markdown",
   "metadata": {},
   "source": [
    "#### ds4: adding year, month and other time variables back"
   ]
  },
  {
   "cell_type": "code",
   "execution_count": 16,
   "metadata": {},
   "outputs": [],
   "source": [
    "import pandas as pd"
   ]
  },
  {
   "cell_type": "code",
   "execution_count": 17,
   "metadata": {},
   "outputs": [],
   "source": [
    "ds3 = xr.open_dataset('surfrad_hourly_clean.nc')"
   ]
  },
  {
   "cell_type": "code",
   "execution_count": 18,
   "metadata": {},
   "outputs": [],
   "source": [
    "ds4 = xr.Dataset()\n",
    "fields_to_keep = ['dw_solar', 'uw_solar', 'dw_ir', 'uw_ir', 'uvb', 'temp', 'rh', 'windspd', 'winddir', 'pressure']\n",
    "\n",
    "time = pd.to_datetime(ds3.time.values + np.timedelta64(-5, 'h')) # in local (EST) time zone\n",
    "for field in fields_to_keep:\n",
    "    ds4.__setitem__(field, xr.DataArray(ds3[field].values, coords=[time], dims=['time']))\n",
    "ds4.__setitem__('zenith', xr.DataArray(ds3['zen'].values, coords=[time], dims=['time']))\n",
    "\n",
    "ds4.__setitem__('year', xr.DataArray(time.year, coords=[time], dims=['time']))\n",
    "ds4.__setitem__('month', xr.DataArray(time.month, coords=[time], dims=['time']))\n",
    "ds4.__setitem__('day', xr.DataArray(time.day, coords=[time], dims=['time']))\n",
    "ds4.__setitem__('hour', xr.DataArray(time.hour, coords=[time], dims=['time']))\n",
    "\n",
    "ds4.__setitem__('hours_since', xr.DataArray(np.arange(len(time)), coords=[time], dims=['time']))"
   ]
  },
  {
   "cell_type": "code",
   "execution_count": 19,
   "metadata": {},
   "outputs": [],
   "source": [
    "ds4.to_netcdf('surfrad_hourly_simple.nc')"
   ]
  },
  {
   "cell_type": "markdown",
   "metadata": {},
   "source": []
  },
  {
   "cell_type": "code",
   "execution_count": 20,
   "metadata": {},
   "outputs": [
    {
     "data": {
      "text/plain": [
       "([<matplotlib.axis.XTick at 0x7f9780d80898>,\n",
       "  <matplotlib.axis.XTick at 0x7f9781c35fd0>,\n",
       "  <matplotlib.axis.XTick at 0x7f9780d90668>,\n",
       "  <matplotlib.axis.XTick at 0x7f978072b898>,\n",
       "  <matplotlib.axis.XTick at 0x7f97807320f0>,\n",
       "  <matplotlib.axis.XTick at 0x7f9780732908>],\n",
       " <a list of 6 Text xticklabel objects>)"
      ]
     },
     "execution_count": 20,
     "metadata": {},
     "output_type": "execute_result"
    },
    {
     "data": {
      "image/png": "[encoded data removed]",
      "text/plain": [
       "<matplotlib.figure.Figure at 0x7f9780d79c18>"
      ]
     },
     "metadata": {},
     "output_type": "display_data"
    }
   ],
   "source": [
    "((ds.uw_solar))[:120].plot(label='Solar up', lw=2)\n",
    "((ds.dw_solar))[:120].plot(label='Solar down', lw=2)\n",
    "((ds.uw_ir))[:120].plot(label='IR up', lw=2)\n",
    "((ds.dw_ir)*(1 - ds.qc_dwir))[:120].plot(label='IR down', lw=2)\n",
    "((ds.totalnet))[:120].plot(label='Net (down - up)', lw=2, ls='--', c='k')\n",
    "\n",
    "plt.ylim((-120, 490))\n",
    "plt.xlabel('Hours since Jan 01, 2017')\n",
    "plt.ylabel('(W/m$^2)$')\n",
    "plt.legend(loc='upper left', bbox_to_anchor=(1.1, 1.0), fontsize=18) # right\n",
    "plt.xticks(np.arange(0, 121, 24))"
   ]
  },
  {
   "cell_type": "markdown",
   "metadata": {},
   "source": []
  }
 ],
 "metadata": {
  "anaconda-cloud": {},
  "kernelspec": {
   "display_name": "Python [conda env:anaconda3]",
   "language": "python",
   "name": "conda-env-anaconda3-py"
  },
  "language_info": {
   "codemirror_mode": {
    "name": "ipython",
    "version": 3
   },
   "file_extension": ".py",
   "mimetype": "text/x-python",
   "name": "python",
   "nbconvert_exporter": "python",
   "pygments_lexer": "ipython3",
   "version": "3.5.2"
  }
 },
 "nbformat": 4,
 "nbformat_minor": 1
}
