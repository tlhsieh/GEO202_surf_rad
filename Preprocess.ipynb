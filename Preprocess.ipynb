{
 "cells": [
  {
   "cell_type": "code",
   "execution_count": null,
   "metadata": {
    "collapsed": true
   },
   "outputs": [],
   "source": [
    "import numpy as np\n",
    "import xarray as xr\n",
    "import datetime"
   ]
  },
  {
   "cell_type": "code",
   "execution_count": null,
   "metadata": {
    "collapsed": true
   },
   "outputs": [],
   "source": [
    "%matplotlib inline\n",
    "import matplotlib.pyplot as plt\n",
    "plt.rc('font',**{'size':18})"
   ]
  },
  {
   "cell_type": "code",
   "execution_count": null,
   "metadata": {
    "collapsed": true
   },
   "outputs": [],
   "source": [
    "import os\n",
    "from ftplib import FTP\n",
    "import wget"
   ]
  },
  {
   "cell_type": "code",
   "execution_count": null,
   "metadata": {
    "collapsed": true
   },
   "outputs": [],
   "source": [
    "#c specify years here\n",
    "yr_beg = 2018\n",
    "yr_end = 2020\n",
    "\n",
    "site = 'Penn_State_PA'"
   ]
  },
  {
   "cell_type": "markdown",
   "metadata": {},
   "source": []
  },
  {
   "cell_type": "code",
   "execution_count": null,
   "metadata": {
    "collapsed": true
   },
   "outputs": [],
   "source": [
    "#c download data from NOAA server\n",
    "os.mkdir(site)\n",
    "for yr in range(yr_beg, yr_end+1):\n",
    "    os.mkdir(site+'/'+str(yr))\n",
    "    \n",
    "    with FTP('aftp.cmdl.noaa.gov') as ftp:\n",
    "        ftp.login()\n",
    "        ftp.cwd('data/radiation/surfrad/'+site+'/'+str(yr)) # change directory\n",
    "        files = ftp.nlst() # list files in the directory\n",
    "        for file in files:\n",
    "            wget.download('ftp://aftp.cmdl.noaa.gov/data/radiation/surfrad/'+site+'/'+str(yr)+'/'+file, \n",
    "                          site+'/'+str(yr)+'/'+file)\n",
    "            \n",
    "ndays_lastyear = len(files) # number of days in yr_end"
   ]
  },
  {
   "cell_type": "code",
   "execution_count": null,
   "metadata": {
    "collapsed": true
   },
   "outputs": [],
   "source": [
    "#c an alternative to using ftplib and wget\n",
    "# !wget -r ftp://aftp.cmdl.noaa.gov/data/radiation/surfrad/Penn_State_PA/201[7-9]"
   ]
  },
  {
   "cell_type": "code",
   "execution_count": null,
   "metadata": {
    "collapsed": true
   },
   "outputs": [],
   "source": [
    "def daysinayear(year):\n",
    "    if year%400 == 0:\n",
    "        return 366\n",
    "    elif year%100 == 0:\n",
    "        return 365\n",
    "    elif year%4 == 0:\n",
    "        return 366\n",
    "    return 365"
   ]
  },
  {
   "cell_type": "code",
   "execution_count": null,
   "metadata": {
    "collapsed": true
   },
   "outputs": [],
   "source": [
    "#c list of fields, copied from the Fortran code in README\n",
    "fields = ['year', 'jday', 'month', 'day', 'hour', 'min', 'dt', 'zen', 'dw_solar', 'qc_dwsolar', 'uw_solar', 'qc_uwsolar', 'direct_n', 'qc_direct_n', 'diffuse', 'qc_diffuse', 'dw_ir', 'qc_dwir', 'dw_casetemp', 'qc_dwcasetemp', 'dw_dometemp', 'qc_dwdometemp', 'uw_ir', 'qc_uwir', 'uw_casetemp', 'qc_uwcasetemp', 'uw_dometemp', 'qc_uwdometemp', 'uvb', 'qc_uvb', 'par', 'qc_par', 'netsolar', 'qc_netsolar', 'netir', 'qc_netir', 'totalnet', 'qc_totalnet', 'temp', 'qc_temp', 'rh', 'qc_rh', 'windspd', 'qc_windspd', 'winddir', 'qc_winddir', 'pressure', 'qc_pressure', 'count']\n",
    "nfields = len(fields) # number of fields in each .dat plus one"
   ]
  },
  {
   "cell_type": "code",
   "execution_count": null,
   "metadata": {
    "code_folding": [
     3
    ],
    "collapsed": true
   },
   "outputs": [],
   "source": [
    "# path = '/home/aos/hsiehtl/GEO202_surf_rad/Penn_State_PA/' # path to data files\n",
    "# path = 'aftp.cmdl.noaa.gov/data/radiation/surfrad/Penn_State_PA/' # if using !wget\n",
    "path = site+'/'\n",
    "\n",
    "data = np.zeros((1, nfields)) # initial shape is specified to make np.append() work\n",
    "for year in range(yr_beg, yr_end+1):\n",
    "    if year == yr_end:\n",
    "        ndays = ndays_lastyear\n",
    "    else:\n",
    "        ndays = daysinayear(year) # number of days in that year\n",
    "    \n",
    "    for day in range(1, ndays+1):\n",
    "        singleday = np.zeros((24, nfields)) # to hold hourly data for one day\n",
    "        \n",
    "        filepath = path+str(year)+'/psu'+str(year)[-2:]+str(day).zfill(3)+'.dat'        \n",
    "        try: \n",
    "            file = open(filepath, 'r') # each .dat is a day of data\n",
    "        \n",
    "            #v skip header lines\n",
    "            file.readline()\n",
    "            file.readline()\n",
    "\n",
    "            for line in file:\n",
    "                l = np.array(line.split())\n",
    "                hr = int(l[4])\n",
    "                singleday[hr,:-1] = singleday[hr,:-1] + np.array([float(n) for n in l])\n",
    "                singleday[hr,-1]  = singleday[hr,-1]  + 1 # counting number of samples in each hour; may not be 60\n",
    "                \n",
    "            singleday[:,:-1] = singleday[:,:-1]/np.transpose(np.broadcast_to(singleday[:,-1], (nfields-1, 24))) # computing hourly mean\n",
    "            \n",
    "            file.close()\n",
    "            \n",
    "        except FileNotFoundError: # to append zeros for days with missing data\n",
    "            pass\n",
    "        \n",
    "        data = np.append(data, singleday, axis=0)\n",
    "    \n",
    "data = data[1:,:] # removing the first line of zeros"
   ]
  },
  {
   "cell_type": "code",
   "execution_count": null,
   "metadata": {
    "code_folding": [],
    "collapsed": true
   },
   "outputs": [],
   "source": [
    "#c cleaning up quality control flags\n",
    "for i in range(nfields):    \n",
    "    if fields[i][:2] == 'qc':\n",
    "        data[:,i] = data[:,i] + (data[:,-1] == 0) # flaging the entry if count == 0\n",
    "        data[:,i] = (data[:,i] > 0) # making it boolean data"
   ]
  },
  {
   "cell_type": "code",
   "execution_count": null,
   "metadata": {
    "collapsed": true
   },
   "outputs": [],
   "source": [
    "ds = xr.Dataset()\n",
    "h = range(len(data)) # a simple time axis: hours from the first data point\n",
    "\n",
    "for i in range(nfields):\n",
    "    if i < 6 or fields[i][:2] == 'qc' or i == nfields-1: # cleaning up variable type\n",
    "        ds.__setitem__(fields[i], xr.DataArray(data[:,i].astype(np.int32), coords=[h], dims=['time']))\n",
    "    else:\n",
    "        ds.__setitem__(fields[i], xr.DataArray(data[:,i], coords=[h], dims=['time']))"
   ]
  },
  {
   "cell_type": "code",
   "execution_count": null,
   "metadata": {
    "collapsed": true
   },
   "outputs": [],
   "source": [
    "ds.to_netcdf('surfrad_hourly.nc')"
   ]
  },
  {
   "cell_type": "markdown",
   "metadata": {},
   "source": [
    "#### Creating ds2: using datetime list as the time axis"
   ]
  },
  {
   "cell_type": "code",
   "execution_count": null,
   "metadata": {
    "collapsed": true
   },
   "outputs": [],
   "source": [
    "ds = xr.open_dataset('surfrad_hourly.nc')"
   ]
  },
  {
   "cell_type": "code",
   "execution_count": null,
   "metadata": {
    "collapsed": true
   },
   "outputs": [],
   "source": [
    "#c replace time axis of \"hours from\" with datetime list\n",
    "ds2 = xr.Dataset()\n",
    "\n",
    "first = datetime.datetime(ds.year[0].values, ds.month[0].values, ds.day[0].values, ds.hour[0].values)\n",
    "time = [first + datetime.timedelta(hours=x) for x in range(len(ds.year.values))]\n",
    "\n",
    "for field in fields:\n",
    "    ds2.__setitem__(field, xr.DataArray(ds[field], coords=[time], dims=['time']))"
   ]
  },
  {
   "cell_type": "code",
   "execution_count": null,
   "metadata": {
    "collapsed": true
   },
   "outputs": [],
   "source": [
    "ds2.to_netcdf('surfrad_hourly_new.nc')"
   ]
  },
  {
   "cell_type": "markdown",
   "metadata": {},
   "source": [
    "#### Creating ds3: removing qc flags; replacing bad data with nan"
   ]
  },
  {
   "cell_type": "code",
   "execution_count": null,
   "metadata": {
    "collapsed": true
   },
   "outputs": [],
   "source": [
    "ds2 = xr.open_dataset('surfrad_hourly_new.nc')"
   ]
  },
  {
   "cell_type": "code",
   "execution_count": null,
   "metadata": {
    "collapsed": true
   },
   "outputs": [],
   "source": [
    "ds3 = xr.Dataset()\n",
    "\n",
    "for i in range(nfields):\n",
    "    if fields[i][:2] == 'qc':\n",
    "        ds2[fields[i-1]][ds2[fields[i]] == 1] = np.nan # make bad quality data nan\n",
    "        ds3.__setitem__(fields[i-1], ds2[fields[i-1]]) # NOTE: only data with qc flags are included, not including the time variables\n",
    "        \n",
    "for field in ['zen']: # fields that don't have qc flags but still worth including\n",
    "    ds3.__setitem__(field, ds2[field])"
   ]
  },
  {
   "cell_type": "code",
   "execution_count": null,
   "metadata": {
    "collapsed": true
   },
   "outputs": [],
   "source": [
    "ds3.to_netcdf('surfrad_hourly_clean.nc')"
   ]
  },
  {
   "cell_type": "markdown",
   "metadata": {},
   "source": [
    "#### ds4: adding year, month and other time variables back"
   ]
  },
  {
   "cell_type": "code",
   "execution_count": null,
   "metadata": {
    "collapsed": true
   },
   "outputs": [],
   "source": [
    "import pandas as pd"
   ]
  },
  {
   "cell_type": "code",
   "execution_count": null,
   "metadata": {
    "collapsed": true
   },
   "outputs": [],
   "source": [
    "ds3 = xr.open_dataset('surfrad_hourly_clean.nc')"
   ]
  },
  {
   "cell_type": "code",
   "execution_count": null,
   "metadata": {
    "collapsed": true
   },
   "outputs": [],
   "source": [
    "ds4 = xr.Dataset()\n",
    "fields_to_keep = ['dw_solar', 'uw_solar', 'dw_ir', 'uw_ir', 'uvb', 'temp', 'rh', 'windspd', 'winddir', 'pressure']\n",
    "\n",
    "time = pd.to_datetime(ds3.time.values + np.timedelta64(-5, 'h')) # in local (EST) time zone\n",
    "for field in fields_to_keep:\n",
    "    ds4.__setitem__(field, xr.DataArray(ds3[field].values, coords=[time], dims=['time']))\n",
    "ds4.__setitem__('zenith', xr.DataArray(ds3['zen'].values, coords=[time], dims=['time']))\n",
    "\n",
    "ds4.__setitem__('year', xr.DataArray(time.year, coords=[time], dims=['time']))\n",
    "ds4.__setitem__('month', xr.DataArray(time.month, coords=[time], dims=['time']))\n",
    "ds4.__setitem__('day', xr.DataArray(time.day, coords=[time], dims=['time']))\n",
    "ds4.__setitem__('hour', xr.DataArray(time.hour, coords=[time], dims=['time']))\n",
    "\n",
    "ds4.__setitem__('hours_since', xr.DataArray(np.arange(len(time)), coords=[time], dims=['time']))"
   ]
  },
  {
   "cell_type": "code",
   "execution_count": null,
   "metadata": {
    "collapsed": true
   },
   "outputs": [],
   "source": [
    "ds4.to_netcdf('surfrad_hourly_simple.nc')"
   ]
  },
  {
   "cell_type": "markdown",
   "metadata": {},
   "source": []
  },
  {
   "cell_type": "code",
   "execution_count": 100,
   "metadata": {},
   "outputs": [
    {
     "data": {
      "text/plain": [
       "([<matplotlib.axis.XTick at 0x1164a6b70>,\n",
       "  <matplotlib.axis.XTick at 0x1164a6860>,\n",
       "  <matplotlib.axis.XTick at 0x116496cc0>,\n",
       "  <matplotlib.axis.XTick at 0x1166aea90>,\n",
       "  <matplotlib.axis.XTick at 0x1166b54a8>,\n",
       "  <matplotlib.axis.XTick at 0x1166b5a20>],\n",
       " <a list of 6 Text xticklabel objects>)"
      ]
     },
     "execution_count": 100,
     "metadata": {},
     "output_type": "execute_result"
    },
    {
     "data": {
      "image/png": "[encoded data removed]",
      "text/plain": [
       "<matplotlib.figure.Figure at 0x11648cb00>"
      ]
     },
     "metadata": {},
     "output_type": "display_data"
    }
   ],
   "source": [
    "#c visualize the first 5 days of data\n",
    "((ds.uw_solar))[:120].plot(label='Solar up', lw=2)\n",
    "((ds.dw_solar))[:120].plot(label='Solar down', lw=2)\n",
    "((ds.uw_ir))[:120].plot(label='IR up', lw=2)\n",
    "((ds.dw_ir)*(1 - ds.qc_dwir))[:120].plot(label='IR down', lw=2)\n",
    "((ds.totalnet))[:120].plot(label='Net (down - up)', lw=2, ls='--', c='k')\n",
    "\n",
    "plt.ylim((-120, 490))\n",
    "plt.xlabel('Hours since Jan 01, '+str(yr_beg))\n",
    "plt.ylabel('(W/m$^2)$')\n",
    "plt.legend(loc='upper left', bbox_to_anchor=(1.1, 1.0), fontsize=18) # right\n",
    "plt.xticks(np.arange(0, 121, 24))"
   ]
  },
  {
   "cell_type": "markdown",
   "metadata": {},
   "source": []
  }
 ],
 "metadata": {
  "anaconda-cloud": {},
  "kernelspec": {
   "display_name": "Python 3",
   "language": "python",
   "name": "python3"
  },
  "language_info": {
   "codemirror_mode": {
    "name": "ipython",
    "version": 3
   },
   "file_extension": ".py",
   "mimetype": "text/x-python",
   "name": "python",
   "nbconvert_exporter": "python",
   "pygments_lexer": "ipython3",
   "version": "3.6.1"
  }
 },
 "nbformat": 4,
 "nbformat_minor": 1
}
